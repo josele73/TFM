{
 "cells": [
  {
   "cell_type": "markdown",
   "metadata": {},
   "source": [
    "# Visualización en QGIS\n",
    "\n",
    "El CSV que hemos creado contiene información geográfica en forma de coordenadas UTM de cada punto donde se ha detectado una incidencia en las columnas (X,Y) y el tipo de incidencia en \"ESTADO).\n",
    "\n",
    "En QGIS se pueden cargar archivos CSV con esta información como capas cartográficas.\n",
    "\n",
    "Desde el menú **Capa >> Añadir Capa >> Capa de texto delimitado**\n",
    "\n",
    "Una vez cargado indicamos el símbolo delimitador, las columnas X-Y y el sistema de coordenadas\n",
    "\n"
   ]
  },
  {
   "cell_type": "markdown",
   "metadata": {},
   "source": [
    "\n",
    "\n",
    "![](img/1_qgis.jpg)"
   ]
  },
  {
   "cell_type": "markdown",
   "metadata": {},
   "source": [
    "Y posteriomente visualizar la capa con las incidencias de la columna \"ESRTADO\" categorizadas \n",
    "\n",
    "![](img/2_qgis.jpg)"
   ]
  },
  {
   "cell_type": "code",
   "execution_count": null,
   "metadata": {},
   "outputs": [],
   "source": []
  }
 ],
 "metadata": {
  "kernelspec": {
   "display_name": "Python 3",
   "language": "python",
   "name": "python3"
  },
  "language_info": {
   "codemirror_mode": {
    "name": "ipython",
    "version": 3
   },
   "file_extension": ".py",
   "mimetype": "text/x-python",
   "name": "python",
   "nbconvert_exporter": "python",
   "pygments_lexer": "ipython3",
   "version": "3.7.6"
  }
 },
 "nbformat": 4,
 "nbformat_minor": 2
}
